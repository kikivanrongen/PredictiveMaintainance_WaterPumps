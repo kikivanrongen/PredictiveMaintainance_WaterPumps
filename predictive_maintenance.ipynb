{
 "cells": [
  {
   "cell_type": "code",
   "execution_count": null,
   "metadata": {},
   "outputs": [],
   "source": [
    "# Explore data\n"
   ]
  },
  {
   "cell_type": "code",
   "execution_count": null,
   "metadata": {},
   "outputs": [],
   "source": []
  }
 ],
 "metadata": {
  "interpreter": {
   "hash": "e9cb0c52b7fcc99a1546f6285409c2665a2f3777bbe36191df4a579a3a2e8620"
  },
  "kernelspec": {
   "display_name": "Python 3.8.12 64-bit ('vantage-ai': conda)",
   "language": "python",
   "name": "python3"
  },
  "language_info": {
   "name": "python",
   "version": "3.8.12"
  },
  "orig_nbformat": 4
 },
 "nbformat": 4,
 "nbformat_minor": 2
}
